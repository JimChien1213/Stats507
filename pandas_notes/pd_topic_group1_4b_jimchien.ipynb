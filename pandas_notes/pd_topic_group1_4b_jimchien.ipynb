{
 "cells": [
  {
   "cell_type": "markdown",
   "id": "f675a09b",
   "metadata": {},
   "source": [
    "## Topics in Pandas\n",
    "**Stats 507, Fall 2021** "
   ]
  },
  {
   "cell_type": "markdown",
   "id": "2163ec24",
   "metadata": {},
   "source": [
    "## Contents\n",
    "+ [Pandas Table Visualization](#Pandas-Table-Visualization) "
   ]
  },
  {
   "cell_type": "markdown",
   "id": "4513195d",
   "metadata": {},
   "source": [
    "## Pandas Table Visualization\n",
    "**Author:** Cheng Chun, Chien  \n",
    "**Email:**　jimchien@umich.edu  \n",
    "[PS6](https://jbhender.github.io/Stats507/F21/ps/ps6.html)"
   ]
  },
  {
   "cell_type": "markdown",
   "id": "24e76b4a",
   "metadata": {},
   "source": [
    "## Introduction\n",
    "- The slide shows visualization of tabular data using the ***Styler*** class\n",
    "- The ***Styler*** creates an HTML table and leverages CSS styling language to control parameters including colors, fonts, borders, background, etc.\n",
    "- Following contents will be introduced.\n",
    "    1. Formatting Values\n",
    "    2. Table Styles\n",
    "    3. Bulitin Styles"
   ]
  },
  {
   "cell_type": "markdown",
   "id": "cf8b96c9",
   "metadata": {},
   "source": [
    "## Formatting Values\n",
    "- Styler can distinguish the ***display*** and ***actual*** value\n",
    "- To control the display value, use the *.format()* method to manipulate this according to a format spec string or a callable that takes a single value and returns a string.\n",
    "- Functions of *.format()*\n",
    "    - *precision*: formatting floats\n",
    "    - *decimal / thousands*: support other locales\n",
    "    - *na_rep*: display missing data\n",
    "    - *escape*: displaying safe-HTML or safe-LaTeX"
   ]
  },
  {
   "cell_type": "markdown",
   "id": "21de22ae",
   "metadata": {},
   "source": [
    "## Table Styles\n",
    "- Recommend to be used for broad styling, such as entire rows or columns at a time.\n",
    "- 3 primary methods of adding custom CSS styles\n",
    "    - *.set_table_styles()*: control broader areas of the table with specified internal CSS. Cannot be exported to Excel.\n",
    "    - *.set_td_classes()*: link external CSS classes to data cells. Cannot be exported to Excel.\n",
    "    - *.apply() and .applymap()*: add direct internal CSS to specific data cells. Can export to Excel.\n",
    "- Also used to control features applying to the whole table by generic hover functionality, *:hover*.\n",
    "- List of dicts is the format to pass styles to .set_table_styles()."
   ]
  },
  {
   "cell_type": "markdown",
   "id": "1d6426e8",
   "metadata": {},
   "source": [
    "## Builtin Styles\n",
    "- *.highlight_null*: identifying missing data.\n",
    "- *.highlight_min / .highlight_max*: identifying extremeties in data.\n",
    "- *.background_gradient*: highlighting cells based or their, or other, values on a numeric scale.\n",
    "- *.text_gradient*: highlighting text based on their, or other, values on a numeric scale.\n",
    "- *.bar*: displaying mini-charts within cell backgrounds."
   ]
  },
  {
   "cell_type": "code",
   "execution_count": 2,
   "id": "9a631f18",
   "metadata": {},
   "outputs": [
    {
     "data": {
      "text/html": [
       "<style  type=\"text/css\" >\n",
       "#T_96c97_row0_col0{\n",
       "            width:  10em;\n",
       "             height:  80%;\n",
       "            background:  linear-gradient(90deg,#d65f5f 94.7%, transparent 94.7%);\n",
       "        }#T_96c97_row0_col1{\n",
       "            width:  10em;\n",
       "             height:  80%;\n",
       "            background:  linear-gradient(90deg,#d65f5f 99.2%, transparent 99.2%);\n",
       "        }#T_96c97_row1_col0,#T_96c97_row2_col1{\n",
       "            width:  10em;\n",
       "             height:  80%;\n",
       "            background:  linear-gradient(90deg,#d65f5f 100.0%, transparent 100.0%);\n",
       "        }#T_96c97_row1_col1,#T_96c97_row2_col0{\n",
       "            width:  10em;\n",
       "             height:  80%;\n",
       "        }#T_96c97_row3_col0{\n",
       "            width:  10em;\n",
       "             height:  80%;\n",
       "            background:  linear-gradient(90deg,#d65f5f 43.9%, transparent 43.9%);\n",
       "        }#T_96c97_row3_col1{\n",
       "            width:  10em;\n",
       "             height:  80%;\n",
       "            background:  linear-gradient(90deg,#d65f5f 79.2%, transparent 79.2%);\n",
       "        }#T_96c97_row4_col0{\n",
       "            width:  10em;\n",
       "             height:  80%;\n",
       "            background:  linear-gradient(90deg,#d65f5f 81.0%, transparent 81.0%);\n",
       "        }#T_96c97_row4_col1{\n",
       "            width:  10em;\n",
       "             height:  80%;\n",
       "            background:  linear-gradient(90deg,#d65f5f 55.6%, transparent 55.6%);\n",
       "        }</style><table id=\"T_96c97_\" ><thead>    <tr>        <th class=\"blank level0\" ></th>        <th class=\"col_heading level0 col0\" >A</th>        <th class=\"col_heading level0 col1\" >B</th>        <th class=\"col_heading level0 col2\" >C</th>        <th class=\"col_heading level0 col3\" >D</th>    </tr></thead><tbody>\n",
       "                <tr>\n",
       "                        <th id=\"T_96c97_level0_row0\" class=\"row_heading level0 row0\" >0</th>\n",
       "                        <td id=\"T_96c97_row0_col0\" class=\"data row0 col0\" >1.764052</td>\n",
       "                        <td id=\"T_96c97_row0_col1\" class=\"data row0 col1\" >0.400157</td>\n",
       "                        <td id=\"T_96c97_row0_col2\" class=\"data row0 col2\" >0.978738</td>\n",
       "                        <td id=\"T_96c97_row0_col3\" class=\"data row0 col3\" >2.240893</td>\n",
       "            </tr>\n",
       "            <tr>\n",
       "                        <th id=\"T_96c97_level0_row1\" class=\"row_heading level0 row1\" >1</th>\n",
       "                        <td id=\"T_96c97_row1_col0\" class=\"data row1 col0\" >1.867558</td>\n",
       "                        <td id=\"T_96c97_row1_col1\" class=\"data row1 col1\" >-0.977278</td>\n",
       "                        <td id=\"T_96c97_row1_col2\" class=\"data row1 col2\" >0.950088</td>\n",
       "                        <td id=\"T_96c97_row1_col3\" class=\"data row1 col3\" >-0.151357</td>\n",
       "            </tr>\n",
       "            <tr>\n",
       "                        <th id=\"T_96c97_level0_row2\" class=\"row_heading level0 row2\" >2</th>\n",
       "                        <td id=\"T_96c97_row2_col0\" class=\"data row2 col0\" >-0.103219</td>\n",
       "                        <td id=\"T_96c97_row2_col1\" class=\"data row2 col1\" >0.410599</td>\n",
       "                        <td id=\"T_96c97_row2_col2\" class=\"data row2 col2\" >0.144044</td>\n",
       "                        <td id=\"T_96c97_row2_col3\" class=\"data row2 col3\" >1.454274</td>\n",
       "            </tr>\n",
       "            <tr>\n",
       "                        <th id=\"T_96c97_level0_row3\" class=\"row_heading level0 row3\" >3</th>\n",
       "                        <td id=\"T_96c97_row3_col0\" class=\"data row3 col0\" >0.761038</td>\n",
       "                        <td id=\"T_96c97_row3_col1\" class=\"data row3 col1\" >0.121675</td>\n",
       "                        <td id=\"T_96c97_row3_col2\" class=\"data row3 col2\" >0.443863</td>\n",
       "                        <td id=\"T_96c97_row3_col3\" class=\"data row3 col3\" >0.333674</td>\n",
       "            </tr>\n",
       "            <tr>\n",
       "                        <th id=\"T_96c97_level0_row4\" class=\"row_heading level0 row4\" >4</th>\n",
       "                        <td id=\"T_96c97_row4_col0\" class=\"data row4 col0\" >1.494079</td>\n",
       "                        <td id=\"T_96c97_row4_col1\" class=\"data row4 col1\" >-0.205158</td>\n",
       "                        <td id=\"T_96c97_row4_col2\" class=\"data row4 col2\" >0.313068</td>\n",
       "                        <td id=\"T_96c97_row4_col3\" class=\"data row4 col3\" >-0.854096</td>\n",
       "            </tr>\n",
       "    </tbody></table>"
      ],
      "text/plain": [
       "<pandas.io.formats.style.Styler at 0x1d322e5be80>"
      ]
     },
     "execution_count": 2,
     "metadata": {},
     "output_type": "execute_result"
    }
   ],
   "source": [
    "import numpy as np\n",
    "import pandas as pd\n",
    "# Example of table bar chart\n",
    "np.random.seed(0)\n",
    "df = pd.DataFrame(np.random.randn(5,4), columns=['A','B','C','D'])\n",
    "df.style.bar(subset=['A', 'B'], color='#d65f5f')"
   ]
  },
  {
   "cell_type": "code",
   "execution_count": null,
   "id": "4e0c4e0d",
   "metadata": {},
   "outputs": [],
   "source": []
  }
 ],
 "metadata": {
  "jupytext": {
   "formats": "ipynb,auto:light"
  },
  "kernelspec": {
   "display_name": "Python 3",
   "language": "python",
   "name": "python3"
  },
  "language_info": {
   "codemirror_mode": {
    "name": "ipython",
    "version": 3
   },
   "file_extension": ".py",
   "mimetype": "text/x-python",
   "name": "python",
   "nbconvert_exporter": "python",
   "pygments_lexer": "ipython3",
   "version": "3.8.8"
  }
 },
 "nbformat": 4,
 "nbformat_minor": 5
}
